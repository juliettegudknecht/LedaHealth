{
 "cells": [
  {
   "cell_type": "markdown",
   "metadata": {},
   "source": [
    "## Leda Health - Sexual Assault Survivor Survey Analysis for Summer Intern position"
   ]
  },
  {
   "cell_type": "markdown",
   "metadata": {},
   "source": [
    "My name is Juliette Gudknecht and I am from Philadelphia, Pennsylvania. I am a double major in Data Science and Physics at Bloomsburg University. I just wanted to start out by saying that I fully support the analysis your company is doing for sexual assault survivors. Thank you for considering my application and project!"
   ]
  },
  {
   "cell_type": "markdown",
   "metadata": {},
   "source": [
    "## First, I need to import the data into a data frame in pandas. \n",
    "I put all of the data under the \"raw\" sheet into a\n",
    "csv file to make it easier."
   ]
  },
  {
   "cell_type": "code",
   "execution_count": 2,
   "metadata": {},
   "outputs": [],
   "source": [
    "#imports\n",
    "import pandas as pd\n",
    "import matplotlib.pyplot as plt"
   ]
  },
  {
   "cell_type": "code",
   "execution_count": 3,
   "metadata": {},
   "outputs": [
    {
     "data": {
      "text/html": [
       "<div>\n",
       "<style scoped>\n",
       "    .dataframe tbody tr th:only-of-type {\n",
       "        vertical-align: middle;\n",
       "    }\n",
       "\n",
       "    .dataframe tbody tr th {\n",
       "        vertical-align: top;\n",
       "    }\n",
       "\n",
       "    .dataframe thead th {\n",
       "        text-align: right;\n",
       "    }\n",
       "</style>\n",
       "<table border=\"1\" class=\"dataframe\">\n",
       "  <thead>\n",
       "    <tr style=\"text-align: right;\">\n",
       "      <th></th>\n",
       "      <th>#</th>\n",
       "      <th>age</th>\n",
       "      <th>are.you.a.survivor.of.sexual.assault?</th>\n",
       "      <th>are.you.located.in.the.united.states?</th>\n",
       "      <th>what.gender.do.you.identify.as?</th>\n",
       "      <th>gender.other</th>\n",
       "      <th>how.is.covid-19.affecting.your.mental.health?.i.feel</th>\n",
       "      <th>currently.are.you.willing.to.leave.the.house.to.see.a.doctor?</th>\n",
       "      <th>hospitals.should.prioritize.covid-19.patients.before.sexual.assault.patients</th>\n",
       "      <th>the.government.is.doing.a.great.job.with.handling.the.covid-19.epidemic</th>\n",
       "      <th>...</th>\n",
       "      <th>if.you.are.a.survivor.of.sexual.assault.would.you.use.an.at-home.saek.sexual.assault.evidence.kit.if.available?</th>\n",
       "      <th>do.you.trust.the.police?</th>\n",
       "      <th>if.you.were.assaulted.during.the.ongoing.pandemic.do.you.feel.comfortable.calling.a.hotline.such.as.rainn?</th>\n",
       "      <th>ethnicity</th>\n",
       "      <th>sexual.orientation</th>\n",
       "      <th>sexual.orientation.other</th>\n",
       "      <th>if.you've.finished.this.survey.please.type.in.the.code:.hb1495.on.mturk.and.click.yes.here</th>\n",
       "      <th>start.date.utc</th>\n",
       "      <th>submit.date.utc</th>\n",
       "      <th>network.id</th>\n",
       "    </tr>\n",
       "  </thead>\n",
       "  <tbody>\n",
       "    <tr>\n",
       "      <td>0</td>\n",
       "      <td>leda.survey.covid.sexual.assault.20200418.raw.map</td>\n",
       "      <td>NaN</td>\n",
       "      <td>NaN</td>\n",
       "      <td>NaN</td>\n",
       "      <td>NaN</td>\n",
       "      <td>NaN</td>\n",
       "      <td>NaN</td>\n",
       "      <td>NaN</td>\n",
       "      <td>NaN</td>\n",
       "      <td>NaN</td>\n",
       "      <td>...</td>\n",
       "      <td>NaN</td>\n",
       "      <td>NaN</td>\n",
       "      <td>NaN</td>\n",
       "      <td>NaN</td>\n",
       "      <td>NaN</td>\n",
       "      <td>NaN</td>\n",
       "      <td>NaN</td>\n",
       "      <td>NaN</td>\n",
       "      <td>NaN</td>\n",
       "      <td>NaN</td>\n",
       "    </tr>\n",
       "    <tr>\n",
       "      <td>1</td>\n",
       "      <td>Map Pulled</td>\n",
       "      <td>NaN</td>\n",
       "      <td>NaN</td>\n",
       "      <td>NaN</td>\n",
       "      <td>NaN</td>\n",
       "      <td>NaN</td>\n",
       "      <td>NaN</td>\n",
       "      <td>NaN</td>\n",
       "      <td>NaN</td>\n",
       "      <td>NaN</td>\n",
       "      <td>...</td>\n",
       "      <td>NaN</td>\n",
       "      <td>NaN</td>\n",
       "      <td>NaN</td>\n",
       "      <td>NaN</td>\n",
       "      <td>NaN</td>\n",
       "      <td>NaN</td>\n",
       "      <td>NaN</td>\n",
       "      <td>NaN</td>\n",
       "      <td>NaN</td>\n",
       "      <td>NaN</td>\n",
       "    </tr>\n",
       "    <tr>\n",
       "      <td>2</td>\n",
       "      <td>#</td>\n",
       "      <td>Age</td>\n",
       "      <td>Are you a survivor of sexual assault?</td>\n",
       "      <td>Are you located in the United States?</td>\n",
       "      <td>What gender do you identify as?</td>\n",
       "      <td>Gender.Other</td>\n",
       "      <td>How is COVID-19 affecting your mental health? ...</td>\n",
       "      <td>Currently, are you willing to leave the house ...</td>\n",
       "      <td>Hospitals should prioritize COVID-19 Patients ...</td>\n",
       "      <td>The government is doing a great job with handl...</td>\n",
       "      <td>...</td>\n",
       "      <td>If you are a survivor of sexual assault, would...</td>\n",
       "      <td>Do you trust the police?</td>\n",
       "      <td>If you were assaulted during the ongoing pande...</td>\n",
       "      <td>Ethnicity</td>\n",
       "      <td>Sexual Orientation</td>\n",
       "      <td>Sexual.Orientation.Other</td>\n",
       "      <td>If you've finished this survey, please type in...</td>\n",
       "      <td>Start Date (UTC)</td>\n",
       "      <td>Submit Date (UTC)</td>\n",
       "      <td>Network ID</td>\n",
       "    </tr>\n",
       "    <tr>\n",
       "      <td>3</td>\n",
       "      <td>13lxbntsedxi5113lxbntatow9cnecoq</td>\n",
       "      <td>18 - 24</td>\n",
       "      <td>Yes</td>\n",
       "      <td>Yes</td>\n",
       "      <td>Female</td>\n",
       "      <td>None</td>\n",
       "      <td>Slightly better</td>\n",
       "      <td>Probably yes</td>\n",
       "      <td>Probably yes</td>\n",
       "      <td>Absolutely disagree</td>\n",
       "      <td>...</td>\n",
       "      <td>Unsure</td>\n",
       "      <td>Definitely no</td>\n",
       "      <td>Unsure</td>\n",
       "      <td>White</td>\n",
       "      <td>Bisexual</td>\n",
       "      <td>None</td>\n",
       "      <td>1</td>\n",
       "      <td>43936.63763</td>\n",
       "      <td>43936.63957</td>\n",
       "      <td>e4c34f4d22</td>\n",
       "    </tr>\n",
       "    <tr>\n",
       "      <td>4</td>\n",
       "      <td>w72a91vjf1z00mkw72a9e197ghuur3oi</td>\n",
       "      <td>55 - 74</td>\n",
       "      <td>No</td>\n",
       "      <td>None</td>\n",
       "      <td>None</td>\n",
       "      <td>None</td>\n",
       "      <td>None</td>\n",
       "      <td>None</td>\n",
       "      <td>None</td>\n",
       "      <td>None</td>\n",
       "      <td>...</td>\n",
       "      <td>None</td>\n",
       "      <td>None</td>\n",
       "      <td>None</td>\n",
       "      <td>None</td>\n",
       "      <td>None</td>\n",
       "      <td>None</td>\n",
       "      <td>None</td>\n",
       "      <td>43936.58127</td>\n",
       "      <td>43936.58146</td>\n",
       "      <td>8b8e5dd3c5</td>\n",
       "    </tr>\n",
       "  </tbody>\n",
       "</table>\n",
       "<p>5 rows × 39 columns</p>\n",
       "</div>"
      ],
      "text/plain": [
       "                                                   #      age  \\\n",
       "0  leda.survey.covid.sexual.assault.20200418.raw.map      NaN   \n",
       "1                                         Map Pulled      NaN   \n",
       "2                                                  #      Age   \n",
       "3                   13lxbntsedxi5113lxbntatow9cnecoq  18 - 24   \n",
       "4                   w72a91vjf1z00mkw72a9e197ghuur3oi  55 - 74   \n",
       "\n",
       "   are.you.a.survivor.of.sexual.assault?  \\\n",
       "0                                    NaN   \n",
       "1                                    NaN   \n",
       "2  Are you a survivor of sexual assault?   \n",
       "3                                    Yes   \n",
       "4                                     No   \n",
       "\n",
       "   are.you.located.in.the.united.states?  what.gender.do.you.identify.as?  \\\n",
       "0                                    NaN                              NaN   \n",
       "1                                    NaN                              NaN   \n",
       "2  Are you located in the United States?  What gender do you identify as?   \n",
       "3                                    Yes                           Female   \n",
       "4                                   None                             None   \n",
       "\n",
       "   gender.other how.is.covid-19.affecting.your.mental.health?.i.feel  \\\n",
       "0           NaN                                                NaN     \n",
       "1           NaN                                                NaN     \n",
       "2  Gender.Other  How is COVID-19 affecting your mental health? ...     \n",
       "3          None                                    Slightly better     \n",
       "4          None                                               None     \n",
       "\n",
       "  currently.are.you.willing.to.leave.the.house.to.see.a.doctor?  \\\n",
       "0                                                NaN              \n",
       "1                                                NaN              \n",
       "2  Currently, are you willing to leave the house ...              \n",
       "3                                       Probably yes              \n",
       "4                                               None              \n",
       "\n",
       "  hospitals.should.prioritize.covid-19.patients.before.sexual.assault.patients  \\\n",
       "0                                                NaN                             \n",
       "1                                                NaN                             \n",
       "2  Hospitals should prioritize COVID-19 Patients ...                             \n",
       "3                                       Probably yes                             \n",
       "4                                               None                             \n",
       "\n",
       "  the.government.is.doing.a.great.job.with.handling.the.covid-19.epidemic  \\\n",
       "0                                                NaN                        \n",
       "1                                                NaN                        \n",
       "2  The government is doing a great job with handl...                        \n",
       "3                                Absolutely disagree                        \n",
       "4                                               None                        \n",
       "\n",
       "   ...  \\\n",
       "0  ...   \n",
       "1  ...   \n",
       "2  ...   \n",
       "3  ...   \n",
       "4  ...   \n",
       "\n",
       "  if.you.are.a.survivor.of.sexual.assault.would.you.use.an.at-home.saek.sexual.assault.evidence.kit.if.available?  \\\n",
       "0                                                NaN                                                                \n",
       "1                                                NaN                                                                \n",
       "2  If you are a survivor of sexual assault, would...                                                                \n",
       "3                                             Unsure                                                                \n",
       "4                                               None                                                                \n",
       "\n",
       "   do.you.trust.the.police?  \\\n",
       "0                       NaN   \n",
       "1                       NaN   \n",
       "2  Do you trust the police?   \n",
       "3             Definitely no   \n",
       "4                      None   \n",
       "\n",
       "  if.you.were.assaulted.during.the.ongoing.pandemic.do.you.feel.comfortable.calling.a.hotline.such.as.rainn?  \\\n",
       "0                                                NaN                                                           \n",
       "1                                                NaN                                                           \n",
       "2  If you were assaulted during the ongoing pande...                                                           \n",
       "3                                             Unsure                                                           \n",
       "4                                               None                                                           \n",
       "\n",
       "    ethnicity  sexual.orientation  sexual.orientation.other  \\\n",
       "0         NaN                 NaN                       NaN   \n",
       "1         NaN                 NaN                       NaN   \n",
       "2  Ethnicity   Sexual Orientation  Sexual.Orientation.Other   \n",
       "3       White            Bisexual                      None   \n",
       "4        None                None                      None   \n",
       "\n",
       "  if.you've.finished.this.survey.please.type.in.the.code:.hb1495.on.mturk.and.click.yes.here  \\\n",
       "0                                                NaN                                           \n",
       "1                                                NaN                                           \n",
       "2  If you've finished this survey, please type in...                                           \n",
       "3                                                  1                                           \n",
       "4                                               None                                           \n",
       "\n",
       "     start.date.utc    submit.date.utc  network.id  \n",
       "0               NaN                NaN         NaN  \n",
       "1               NaN                NaN         NaN  \n",
       "2  Start Date (UTC)  Submit Date (UTC)  Network ID  \n",
       "3       43936.63763        43936.63957  e4c34f4d22  \n",
       "4       43936.58127        43936.58146  8b8e5dd3c5  \n",
       "\n",
       "[5 rows x 39 columns]"
      ]
     },
     "execution_count": 3,
     "metadata": {},
     "output_type": "execute_result"
    }
   ],
   "source": [
    "# import file\n",
    "file_name = '/Users/juliettegudknecht/Downloads/ledarawdata.csv'\n",
    "\n",
    "df_raw = pd.read_csv(file_name)\n",
    "df_raw.head()"
   ]
  },
  {
   "cell_type": "code",
   "execution_count": 22,
   "metadata": {},
   "outputs": [
    {
     "data": {
      "text/html": [
       "<div>\n",
       "<style scoped>\n",
       "    .dataframe tbody tr th:only-of-type {\n",
       "        vertical-align: middle;\n",
       "    }\n",
       "\n",
       "    .dataframe tbody tr th {\n",
       "        vertical-align: top;\n",
       "    }\n",
       "\n",
       "    .dataframe thead th {\n",
       "        text-align: right;\n",
       "    }\n",
       "</style>\n",
       "<table border=\"1\" class=\"dataframe\">\n",
       "  <thead>\n",
       "    <tr style=\"text-align: right;\">\n",
       "      <th></th>\n",
       "      <th>how.is.covid-19.affecting.your.mental.health?.i.feel</th>\n",
       "      <th>are.you.located.in.the.united.states?</th>\n",
       "      <th>what.gender.do.you.identify.as?</th>\n",
       "      <th>the.government.is.doing.a.great.job.with.handling.the.covid-19.epidemic</th>\n",
       "      <th>are.you.a.survivor.of.sexual.assault?</th>\n",
       "      <th>gender.other</th>\n",
       "      <th>hospitals.should.prioritize.covid-19.patients.before.sexual.assault.patients</th>\n",
       "      <th>do.you.trust.the.police?</th>\n",
       "      <th>age</th>\n",
       "      <th>ethnicity</th>\n",
       "    </tr>\n",
       "  </thead>\n",
       "  <tbody>\n",
       "    <tr>\n",
       "      <td>0</td>\n",
       "      <td>NaN</td>\n",
       "      <td>NaN</td>\n",
       "      <td>NaN</td>\n",
       "      <td>NaN</td>\n",
       "      <td>NaN</td>\n",
       "      <td>NaN</td>\n",
       "      <td>NaN</td>\n",
       "      <td>NaN</td>\n",
       "      <td>NaN</td>\n",
       "      <td>NaN</td>\n",
       "    </tr>\n",
       "    <tr>\n",
       "      <td>1</td>\n",
       "      <td>NaN</td>\n",
       "      <td>NaN</td>\n",
       "      <td>NaN</td>\n",
       "      <td>NaN</td>\n",
       "      <td>NaN</td>\n",
       "      <td>NaN</td>\n",
       "      <td>NaN</td>\n",
       "      <td>NaN</td>\n",
       "      <td>NaN</td>\n",
       "      <td>NaN</td>\n",
       "    </tr>\n",
       "    <tr>\n",
       "      <td>2</td>\n",
       "      <td>How is COVID-19 affecting your mental health? ...</td>\n",
       "      <td>Are you located in the United States?</td>\n",
       "      <td>What gender do you identify as?</td>\n",
       "      <td>The government is doing a great job with handl...</td>\n",
       "      <td>Are you a survivor of sexual assault?</td>\n",
       "      <td>Gender.Other</td>\n",
       "      <td>Hospitals should prioritize COVID-19 Patients ...</td>\n",
       "      <td>Do you trust the police?</td>\n",
       "      <td>Age</td>\n",
       "      <td>Ethnicity</td>\n",
       "    </tr>\n",
       "    <tr>\n",
       "      <td>3</td>\n",
       "      <td>Slightly better</td>\n",
       "      <td>Yes</td>\n",
       "      <td>Female</td>\n",
       "      <td>Absolutely disagree</td>\n",
       "      <td>Yes</td>\n",
       "      <td>None</td>\n",
       "      <td>Probably yes</td>\n",
       "      <td>Definitely no</td>\n",
       "      <td>18 - 24</td>\n",
       "      <td>White</td>\n",
       "    </tr>\n",
       "    <tr>\n",
       "      <td>4</td>\n",
       "      <td>None</td>\n",
       "      <td>None</td>\n",
       "      <td>None</td>\n",
       "      <td>None</td>\n",
       "      <td>No</td>\n",
       "      <td>None</td>\n",
       "      <td>None</td>\n",
       "      <td>None</td>\n",
       "      <td>55 - 74</td>\n",
       "      <td>None</td>\n",
       "    </tr>\n",
       "  </tbody>\n",
       "</table>\n",
       "</div>"
      ],
      "text/plain": [
       "  how.is.covid-19.affecting.your.mental.health?.i.feel  \\\n",
       "0                                                NaN     \n",
       "1                                                NaN     \n",
       "2  How is COVID-19 affecting your mental health? ...     \n",
       "3                                    Slightly better     \n",
       "4                                               None     \n",
       "\n",
       "   are.you.located.in.the.united.states?  what.gender.do.you.identify.as?  \\\n",
       "0                                    NaN                              NaN   \n",
       "1                                    NaN                              NaN   \n",
       "2  Are you located in the United States?  What gender do you identify as?   \n",
       "3                                    Yes                           Female   \n",
       "4                                   None                             None   \n",
       "\n",
       "  the.government.is.doing.a.great.job.with.handling.the.covid-19.epidemic  \\\n",
       "0                                                NaN                        \n",
       "1                                                NaN                        \n",
       "2  The government is doing a great job with handl...                        \n",
       "3                                Absolutely disagree                        \n",
       "4                                               None                        \n",
       "\n",
       "   are.you.a.survivor.of.sexual.assault?  gender.other  \\\n",
       "0                                    NaN           NaN   \n",
       "1                                    NaN           NaN   \n",
       "2  Are you a survivor of sexual assault?  Gender.Other   \n",
       "3                                    Yes          None   \n",
       "4                                     No          None   \n",
       "\n",
       "  hospitals.should.prioritize.covid-19.patients.before.sexual.assault.patients  \\\n",
       "0                                                NaN                             \n",
       "1                                                NaN                             \n",
       "2  Hospitals should prioritize COVID-19 Patients ...                             \n",
       "3                                       Probably yes                             \n",
       "4                                               None                             \n",
       "\n",
       "   do.you.trust.the.police?      age   ethnicity  \n",
       "0                       NaN      NaN         NaN  \n",
       "1                       NaN      NaN         NaN  \n",
       "2  Do you trust the police?      Age  Ethnicity   \n",
       "3             Definitely no  18 - 24       White  \n",
       "4                      None  55 - 74        None  "
      ]
     },
     "execution_count": 22,
     "metadata": {},
     "output_type": "execute_result"
    }
   ],
   "source": [
    "# Prepare Data\n",
    "# pick which questions to use\n",
    "df = df_raw[['how.is.covid-19.affecting.your.mental.health?.i.feel','are.you.located.in.the.united.states?',\n",
    "            'what.gender.do.you.identify.as?',\n",
    "            'the.government.is.doing.a.great.job.with.handling.the.covid-19.epidemic',\n",
    "            'are.you.a.survivor.of.sexual.assault?', 'gender.other',\n",
    "            'hospitals.should.prioritize.covid-19.patients.before.sexual.assault.patients',\n",
    "            'do.you.trust.the.police?', 'age', 'ethnicity']]\n",
    "df.head()"
   ]
  },
  {
   "cell_type": "markdown",
   "metadata": {},
   "source": [
    "# First question: How is covid-19 affecting your mental health?"
   ]
  },
  {
   "cell_type": "code",
   "execution_count": 4,
   "metadata": {},
   "outputs": [
    {
     "data": {
      "text/plain": [
       "None                                                       0.354255\n",
       "Slightly worse                                             0.287234\n",
       "Neutral                                                    0.154255\n",
       "Much worse                                                 0.131915\n",
       "Slightly better                                            0.053191\n",
       "Much better                                                0.018085\n",
       "How is COVID-19 affecting your mental health? I feel ..    0.001064\n",
       "Name: how.is.covid-19.affecting.your.mental.health?.i.feel, dtype: float64"
      ]
     },
     "execution_count": 4,
     "metadata": {},
     "output_type": "execute_result"
    }
   ],
   "source": [
    "df['how.is.covid-19.affecting.your.mental.health?.i.feel'].value_counts(normalize=True)"
   ]
  },
  {
   "cell_type": "code",
   "execution_count": 5,
   "metadata": {},
   "outputs": [],
   "source": [
    "said_None = df[df['how.is.covid-19.affecting.your.mental.health?.i.feel'] == 'None']\n",
    "said_slworse = df[df['how.is.covid-19.affecting.your.mental.health?.i.feel'] == 'Slightly worse']\n",
    "said_neut = df[df['how.is.covid-19.affecting.your.mental.health?.i.feel'] == 'Neutral']\n",
    "said_muchworse = df[df['how.is.covid-19.affecting.your.mental.health?.i.feel'] == 'Much worse']\n",
    "said_slbetter = df[df['how.is.covid-19.affecting.your.mental.health?.i.feel'] == 'Slightly better']\n",
    "said_muchbetter = df[df['how.is.covid-19.affecting.your.mental.health?.i.feel'] == 'Much better']"
   ]
  },
  {
   "cell_type": "code",
   "execution_count": 6,
   "metadata": {},
   "outputs": [
    {
     "name": "stdout",
     "output_type": "stream",
     "text": [
      "How is covid-19 affecting your mental health? I feel:\n"
     ]
    },
    {
     "data": {
      "image/png": "[encoded data removed]",
      "text/plain": [
       "<Figure size 432x288 with 1 Axes>"
      ]
     },
     "metadata": {},
     "output_type": "display_data"
    },
    {
     "name": "stdout",
     "output_type": "stream",
     "text": [
      "How is covid-19 affecting your mental health? I feel:\n"
     ]
    },
    {
     "data": {
      "image/png": "[encoded data removed]",
      "text/plain": [
       "<Figure size 432x288 with 1 Axes>"
      ]
     },
     "metadata": {},
     "output_type": "display_data"
    }
   ],
   "source": [
    "#pie plot\n",
    "#data\n",
    "labels = 'Slightly worse', 'Neutral', 'Much worse', 'Slightly better', 'Much better'\n",
    "sizes = [len(said_slworse), len(said_neut), len(said_muchworse), len(said_slbetter), len(said_muchbetter)]\n",
    "colors = ['white', 'lightskyblue', 'pink', 'blue', 'lightcoral', 'yellow']\n",
    "explode = (0.1, 0.1, 0.1, 0.1, 0.1)  # explode 'None' slice\n",
    "\n",
    "# Plot\n",
    "plt.pie(sizes, explode=explode, labels=labels, colors=colors,\n",
    "autopct='%1.1f%%', shadow=True, startangle=140)\n",
    "\n",
    "plt.axis('equal')\n",
    "\n",
    "#title looked weird, used print statement instead\n",
    "print('How is covid-19 affecting your mental health? I feel:')\n",
    "\n",
    "plt.show()\n",
    "\n",
    "#second plot with changed names\n",
    "labels = 'Worse', 'Neutral', 'Better'\n",
    "sizes = [len(said_slworse)+len(said_muchworse), len(said_neut), len(said_slbetter)+len(said_muchbetter)]\n",
    "colors = ['blue', 'lightcoral', 'yellow']\n",
    "explode = (0.1, 0.1, 0.1)  # explode 'None' slice\n",
    "\n",
    "# Plot\n",
    "plt.pie(sizes, explode=explode, labels=labels, colors=colors,\n",
    "autopct='%1.1f%%', shadow=True, startangle=140)\n",
    "\n",
    "plt.axis('equal')\n",
    "\n",
    "#title looked weird, used print statement instead\n",
    "print('How is covid-19 affecting your mental health? I feel:')\n",
    "\n",
    "plt.show()"
   ]
  },
  {
   "cell_type": "markdown",
   "metadata": {},
   "source": [
    "I think this data shows an interesting statistic. Personally, I feel my mental health is slightly worse due to being stuck inside all day. But, it is good to see that so many people are still feeling good!"
   ]
  },
  {
   "cell_type": "markdown",
   "metadata": {},
   "source": [
    "# Next question: Gender and sexual assault survivors analysis"
   ]
  },
  {
   "cell_type": "code",
   "execution_count": 16,
   "metadata": {},
   "outputs": [
    {
     "data": {
      "text/plain": [
       "Female                             442\n",
       "None                               337\n",
       "Male                               160\n",
       "What gender do you identify as?      1\n",
       "Name: what.gender.do.you.identify.as?, dtype: int64"
      ]
     },
     "execution_count": 16,
     "metadata": {},
     "output_type": "execute_result"
    }
   ],
   "source": [
    "df['what.gender.do.you.identify.as?'].value_counts()"
   ]
  },
  {
   "cell_type": "code",
   "execution_count": 17,
   "metadata": {},
   "outputs": [
    {
     "data": {
      "text/plain": [
       "Yes                                      609\n",
       "No                                       324\n",
       "None                                       6\n",
       "Are you a survivor of sexual assault?      1\n",
       "Name: are.you.a.survivor.of.sexual.assault?, dtype: int64"
      ]
     },
     "execution_count": 17,
     "metadata": {},
     "output_type": "execute_result"
    }
   ],
   "source": [
    "df['if.you.are.a.survivor.of.sexual.assault.would.you.use.an.at-home.saek.sexual.assault.evidence.kit.if.available?'].value_counts()"
   ]
  },
  {
   "cell_type": "code",
   "execution_count": 4,
   "metadata": {},
   "outputs": [
    {
     "data": {
      "text/plain": [
       "None                                                                                                                  335\n",
       "Probably yes                                                                                                          205\n",
       "Definitely yes                                                                                                        201\n",
       "Unsure                                                                                                                130\n",
       "Probably no                                                                                                            41\n",
       "Definitely no                                                                                                          22\n",
       "Not Applicable                                                                                                          5\n",
       "If you are a survivor of sexual assault, would you use an at-home SAEK (Sexual Assault Evidence Kit) if available?      1\n",
       "Name: if.you.are.a.survivor.of.sexual.assault.would.you.use.an.at-home.saek.sexual.assault.evidence.kit.if.available?, dtype: int64"
      ]
     },
     "execution_count": 4,
     "metadata": {},
     "output_type": "execute_result"
    }
   ],
   "source": [
    "df_raw['if.you.are.a.survivor.of.sexual.assault.would.you.use.an.at-home.saek.sexual.assault.evidence.kit.if.available?'].value_counts()"
   ]
  },
  {
   "cell_type": "code",
   "execution_count": 8,
   "metadata": {},
   "outputs": [],
   "source": [
    "#seperate into categories of gender and survivors\n",
    "said_femaleandsurvivor = df[(df['are.you.a.survivor.of.sexual.assault?'] == 'Yes') & (df['what.gender.do.you.identify.as?'] == 'Female')]\n",
    "said_maleandsurvivor = df[(df['are.you.a.survivor.of.sexual.assault?'] == 'Yes') & (df['what.gender.do.you.identify.as?'] == 'Male')]\n",
    "#said_otherandsurvivor = df[(df['are.you.a.survivor.of.sexual.assault?'] == 'Yes')]\n",
    "said_agenderandsurvivor = df[(df['are.you.a.survivor.of.sexual.assault?'] == 'Yes') & (df['gender.other'] == 'Agender')]\n",
    "said_nonbinaryandsurvivor = df[(df['are.you.a.survivor.of.sexual.assault?'] == 'Yes') & (df['gender.other'] == 'non-binary') & (df['gender.other'] == 'Non Binary')]\n",
    "said_fluidandsurvivor = df[(df['are.you.a.survivor.of.sexual.assault?'] == 'Yes') & (df['gender.other'] == 'gender fluid')]"
   ]
  },
  {
   "cell_type": "code",
   "execution_count": 11,
   "metadata": {},
   "outputs": [
    {
     "name": "stdout",
     "output_type": "stream",
     "text": [
      "442 160\n"
     ]
    },
    {
     "data": {
      "image/png": "[encoded data removed]",
      "text/plain": [
       "<Figure size 640x480 with 1 Axes>"
      ]
     },
     "metadata": {},
     "output_type": "display_data"
    }
   ],
   "source": [
    "#first visualization & new imports\n",
    "import matplotlib.pyplot as plt; plt.rcdefaults()\n",
    "import numpy as np\n",
    "\n",
    "genders = ('Female', 'Male')\n",
    "y_pos = np.arange(len(genders))\n",
    "genderresponses = [len(said_femaleandsurvivor), len(said_maleandsurvivor)]\n",
    "\n",
    "plt.barh(y_pos, genderresponses, align='center', alpha=0.5)\n",
    "plt.yticks(y_pos, genders)\n",
    "plt.xlabel('Participants')\n",
    "plt.title('Sexual Assault Survivors and Their Genders')\n",
    "\n",
    "print(len(said_femaleandsurvivor), len(said_maleandsurvivor))\n",
    "plt.show()"
   ]
  },
  {
   "cell_type": "markdown",
   "metadata": {},
   "source": [
    "Just to show more awareness, I am going to calculate the amt of participants that are gender fluid, agender or\n",
    "non-binary that responded they were survivors of sexual assault. I think this visualization is astonishing. It shows that in this data set there were more than triple female sexual assault survivors."
   ]
  },
  {
   "cell_type": "code",
   "execution_count": 20,
   "metadata": {},
   "outputs": [
    {
     "name": "stdout",
     "output_type": "stream",
     "text": [
      "Gender fluid & a survivor of sexual assault:  1\n",
      "Agender & a survivor of sexual assault:  1\n",
      "Non-binary & a survivor of sexual assault:  0\n"
     ]
    }
   ],
   "source": [
    "print('Gender fluid & a survivor of sexual assault: ', len(said_fluidandsurvivor))\n",
    "print('Agender & a survivor of sexual assault: ', len(said_agenderandsurvivor))\n",
    "print('Non-binary & a survivor of sexual assault: ', len(said_nonbinaryandsurvivor))\n"
   ]
  },
  {
   "cell_type": "markdown",
   "metadata": {},
   "source": [
    "# Next I want to do an analysis between male and female across two questions that were asked in the survey."
   ]
  },
  {
   "cell_type": "code",
   "execution_count": 21,
   "metadata": {},
   "outputs": [
    {
     "data": {
      "text/plain": [
       "None                                                                        333\n",
       "Absolutely disagree                                                         166\n",
       "Slightly disagree                                                           159\n",
       "Slightly agree                                                              138\n",
       "Neither                                                                      83\n",
       "Absolutely agree                                                             60\n",
       "The government is doing a great job with handling the COVID-19 epidemic.      1\n",
       "Name: the.government.is.doing.a.great.job.with.handling.the.covid-19.epidemic, dtype: int64"
      ]
     },
     "execution_count": 21,
     "metadata": {},
     "output_type": "execute_result"
    }
   ],
   "source": [
    "df['the.government.is.doing.a.great.job.with.handling.the.covid-19.epidemic'].value_counts()"
   ]
  },
  {
   "cell_type": "code",
   "execution_count": 27,
   "metadata": {},
   "outputs": [],
   "source": [
    "fem_said_None = df[(df['the.government.is.doing.a.great.job.with.handling.the.covid-19.epidemic'] == 'None') & (df['what.gender.do.you.identify.as?'] == 'Female')]\n",
    "fem_said_absno = df[(df['the.government.is.doing.a.great.job.with.handling.the.covid-19.epidemic'] == 'Absolutely disagree') & (df['what.gender.do.you.identify.as?'] == 'Female')]\n",
    "fem_said_slno = df[(df['the.government.is.doing.a.great.job.with.handling.the.covid-19.epidemic'] == 'Slightly disagree') & (df['what.gender.do.you.identify.as?'] == 'Female')]\n",
    "fem_said_slagree = df[(df['the.government.is.doing.a.great.job.with.handling.the.covid-19.epidemic'] == 'Slightly agree') & (df['what.gender.do.you.identify.as?'] == 'Female')]\n",
    "fem_said_neither = df[(df['the.government.is.doing.a.great.job.with.handling.the.covid-19.epidemic'] == 'Neither') & (df['what.gender.do.you.identify.as?'] == 'Female')]\n",
    "fem_said_absagree = df[(df['the.government.is.doing.a.great.job.with.handling.the.covid-19.epidemic'] == 'Absolutely agree') & (df['what.gender.do.you.identify.as?'] == 'Female')]\n",
    "\n",
    "male_said_None = df[(df['the.government.is.doing.a.great.job.with.handling.the.covid-19.epidemic'] == 'None') & (df['what.gender.do.you.identify.as?'] == 'Male')]\n",
    "male_said_absno = df[(df['the.government.is.doing.a.great.job.with.handling.the.covid-19.epidemic'] == 'Absolutely disagree') & (df['what.gender.do.you.identify.as?'] == 'Male')]\n",
    "male_said_slno = df[(df['the.government.is.doing.a.great.job.with.handling.the.covid-19.epidemic'] == 'Slightly disagree') & (df['what.gender.do.you.identify.as?'] == 'Male')]\n",
    "male_said_slagree = df[(df['the.government.is.doing.a.great.job.with.handling.the.covid-19.epidemic'] == 'Slightly agree') & (df['what.gender.do.you.identify.as?'] == 'Male')]\n",
    "male_said_neither = df[(df['the.government.is.doing.a.great.job.with.handling.the.covid-19.epidemic'] == 'Neither') & (df['what.gender.do.you.identify.as?'] == 'Male')]\n",
    "male_said_absagree = df[(df['the.government.is.doing.a.great.job.with.handling.the.covid-19.epidemic'] == 'Absolutely agree') & (df['what.gender.do.you.identify.as?'] == 'Male')]\n"
   ]
  },
  {
   "cell_type": "code",
   "execution_count": 33,
   "metadata": {},
   "outputs": [
    {
     "data": {
      "image/png": "[encoded data removed]",
      "text/plain": [
       "<Figure size 640x480 with 1 Axes>"
      ]
     },
     "metadata": {},
     "output_type": "display_data"
    }
   ],
   "source": [
    "# data to plot\n",
    "n_groups = 3\n",
    "opinion_fem = (len(fem_said_absno)+len(fem_said_slno), len(fem_said_slagree)+len(fem_said_absagree), \n",
    "              len(fem_said_neither))\n",
    "opinion_male = (len(male_said_absno)+len(male_said_slno), len(male_said_slagree)+len(male_said_absagree), \n",
    "              len(male_said_neither))\n",
    "\n",
    "# create plot\n",
    "fig, ax = plt.subplots()\n",
    "index = np.arange(n_groups)\n",
    "bar_width = 0.35\n",
    "opacity = 0.8\n",
    "\n",
    "rects1 = plt.bar(index, opinion_fem, bar_width,\n",
    "alpha=opacity,\n",
    "color='r',\n",
    "label='Female')\n",
    "\n",
    "rects2 = plt.bar(index + bar_width, opinion_male, bar_width,\n",
    "alpha=opacity,\n",
    "color='g',\n",
    "label='Male')\n",
    "\n",
    "plt.xlabel('Response')\n",
    "plt.ylabel('Amt People')\n",
    "plt.title('Statement: The Government doing a great job with handling the covid-19 epidemic.')\n",
    "plt.xticks(index + bar_width, ('Disagree', 'Agree', 'Neither'))\n",
    "plt.legend()\n",
    "\n",
    "plt.tight_layout()\n",
    "plt.show()\n",
    "\n"
   ]
  },
  {
   "cell_type": "markdown",
   "metadata": {},
   "source": [
    "It is very interesting to see the results. It is clear that more females must have responded to the survey than males."
   ]
  },
  {
   "cell_type": "markdown",
   "metadata": {},
   "source": [
    "   "
   ]
  },
  {
   "cell_type": "markdown",
   "metadata": {},
   "source": [
    "   "
   ]
  },
  {
   "cell_type": "code",
   "execution_count": 28,
   "metadata": {},
   "outputs": [
    {
     "data": {
      "text/plain": [
       "White                                        383\n",
       "None                                         335\n",
       "Black or African American                     86\n",
       "Hispanic/Latinx                               64\n",
       "Asian                                         51\n",
       "American Indian or Alaska Native              17\n",
       "Native Hawaiian or Other Pacific Islander      3\n",
       "Ethnicity                                      1\n",
       "Name: ethnicity, dtype: int64"
      ]
     },
     "execution_count": 28,
     "metadata": {},
     "output_type": "execute_result"
    }
   ],
   "source": [
    "#Analysis of age groups\n",
    "\n",
    "df['ethnicity'].value_counts()"
   ]
  },
  {
   "cell_type": "code",
   "execution_count": 33,
   "metadata": {},
   "outputs": [
    {
     "name": "stdout",
     "output_type": "stream",
     "text": [
      "15\n",
      "16\n",
      "19\n",
      "51.61290322580645\n"
     ]
    }
   ],
   "source": [
    "#fem_None = df[(df['do.you.trust.the.police?'] == 'None') & (df['ethnicity'] == 'Black or African American')]\n",
    "fem_slyes = df[(df['do.you.trust.the.police?'] == 'Slightly yes') & (df['ethnicity'] == 'Hispanic/Latinx')]\n",
    "fem_neutral = df[(df['do.you.trust.the.police?'] == 'Neutral') & (df['ethnicity'] == 'Hispanic/Latinx')]\n",
    "fem_slno = df[(df['do.you.trust.the.police?'] == 'Slightly no') & (df['ethnicity'] == 'Asian')]\n",
    "fem_defyes = df[(df['do.you.trust.the.police?'] == 'Definitely yes') & (df['ethnicity'] == 'Asian')]\n",
    "fem_defno = df[(df['do.you.trust.the.police?'] == 'Definitely no') & (df['ethnicity'] == 'Asian')]\n",
    "\n",
    "male_None = df[(df['do.you.trust.the.police?'] == 'None') & (df['ethnicity'] == 'Male')]\n",
    "male_slyes = df[(df['do.you.trust.the.police?'] == 'Slightly yes') & (df['ethnicity'] == 'Male')]\n",
    "male_neutral = df[(df['do.you.trust.the.police?'] == 'Neutral') & (df['what.gender.do.you.identify.as?'] == 'Male')]\n",
    "male_slno = df[(df['do.you.trust.the.police?'] == 'Slightly no') & (df['what.gender.do.you.identify.as?'] == 'Male')]\n",
    "male_defyes = df[(df['do.you.trust.the.police?'] == 'Definitely yes') & (df['what.gender.do.you.identify.as?'] == 'Male')]\n",
    "male_defno = df[(df['do.you.trust.the.police?'] == 'Definitely no') & (df['what.gender.do.you.identify.as?'] == 'Male')]\n",
    "\n",
    "print(len(fem_slyes)+len(fem_defyes))\n",
    "print(len(fem_slno)+len(fem_defno))\n",
    "print(len(fem_neutral))\n",
    "\n",
    "no = (len(fem_slno)+len(fem_defno)) / (len(fem_slyes)+len(fem_defyes) + len(fem_slno)+len(fem_defno)) * 100 \n",
    "print(no)\n",
    "\n",
    "# more than 50% of Latinx and Asians dont trust police.\n",
    "\n"
   ]
  },
  {
   "cell_type": "markdown",
   "metadata": {},
   "source": [
    "In order to guarantee accurate visualization (since there are more female participants), I graphed the results \n",
    "seperately."
   ]
  },
  {
   "cell_type": "code",
   "execution_count": 41,
   "metadata": {},
   "outputs": [
    {
     "data": {
      "image/png": "[encoded data removed]",
      "text/plain": [
       "<Figure size 640x480 with 1 Axes>"
      ]
     },
     "metadata": {},
     "output_type": "display_data"
    },
    {
     "name": "stdout",
     "output_type": "stream",
     "text": [
      "In order to have the categories not overlap, I abbreviated a bit. Here is another graph with less labels:\n"
     ]
    },
    {
     "data": {
      "image/png": "[encoded data removed]",
      "text/plain": [
       "<Figure size 640x480 with 1 Axes>"
      ]
     },
     "metadata": {},
     "output_type": "display_data"
    }
   ],
   "source": [
    "objects = ('Slight yes', 'Neutral', 'Sligh no', 'Def yes', 'Def no')\n",
    "y_pos = np.arange(len(objects))\n",
    "response = [len(fem_slyes), len(fem_neutral), len(fem_slno), len(fem_defyes), len(fem_defno)]\n",
    "\n",
    "plt.bar(y_pos, response, align='center', alpha=0.5)\n",
    "plt.xticks(y_pos, objects)\n",
    "plt.ylabel('Participants')\n",
    "plt.title('Do you trust the police? (Female responses)')\n",
    "\n",
    "plt.show()\n",
    "print('In order to have the categories not overlap, I abbreviated a bit. Here is another graph with less labels:')\n",
    "\n",
    "#new graph with changed labels\n",
    "\n",
    "objects = ('Yes','No', 'Neutral')\n",
    "y_pos = np.arange(len(objects))\n",
    "response = [len(fem_slyes)+len(fem_defyes), len(fem_slno)+len(fem_defno), len(fem_neutral)]\n",
    "\n",
    "plt.bar(y_pos, response, align='center', alpha=0.5)\n",
    "plt.xticks(y_pos, objects)\n",
    "plt.ylabel('Participants')\n",
    "plt.title('Do you trust the police? (Female responses)')\n",
    "\n",
    "plt.show()"
   ]
  },
  {
   "cell_type": "code",
   "execution_count": 43,
   "metadata": {},
   "outputs": [
    {
     "data": {
      "image/png": "[encoded data removed]",
      "text/plain": [
       "<Figure size 640x480 with 1 Axes>"
      ]
     },
     "metadata": {},
     "output_type": "display_data"
    },
    {
     "data": {
      "image/png": "[encoded data removed]",
      "text/plain": [
       "<Figure size 640x480 with 1 Axes>"
      ]
     },
     "metadata": {},
     "output_type": "display_data"
    }
   ],
   "source": [
    "objects = ('Slight yes', 'Neutral', 'Slight no', 'Def yes', 'Def no')\n",
    "y_pos = np.arange(len(objects))\n",
    "response = [len(male_slyes), len(male_neutral), len(male_slno), len(male_defyes), len(male_defno)]\n",
    "\n",
    "plt.bar(y_pos, response, align='center', alpha=0.5)\n",
    "plt.xticks(y_pos, objects)\n",
    "plt.ylabel('Participants')\n",
    "plt.title('Do you trust the police? (Male responses)')\n",
    "\n",
    "plt.show()\n",
    "\n",
    "objects = ('Yes','No', 'Neutral')\n",
    "y_pos = np.arange(len(objects))\n",
    "response = [len(male_slyes)+len(male_defyes), len(male_slno)+len(male_defno), len(male_neutral)]\n",
    "\n",
    "plt.bar(y_pos, response, align='center', alpha=0.5)\n",
    "plt.xticks(y_pos, objects)\n",
    "plt.ylabel('Participants')\n",
    "plt.title('Do you trust the police? (Male responses)')\n",
    "\n",
    "plt.show()"
   ]
  },
  {
   "cell_type": "markdown",
   "metadata": {},
   "source": [
    "The results are interesting, they're almost the same amongst both male and female"
   ]
  },
  {
   "cell_type": "markdown",
   "metadata": {},
   "source": [
    "  "
   ]
  },
  {
   "cell_type": "markdown",
   "metadata": {},
   "source": [
    "  "
   ]
  },
  {
   "cell_type": "markdown",
   "metadata": {},
   "source": [
    "If I were to do more analysis, I would definitely want to compare if the participant trusts the police with if they think the gov't is doing a good job."
   ]
  },
  {
   "cell_type": "markdown",
   "metadata": {},
   "source": [
    "  "
   ]
  },
  {
   "cell_type": "markdown",
   "metadata": {},
   "source": [
    "  "
   ]
  },
  {
   "cell_type": "markdown",
   "metadata": {},
   "source": [
    "# Thank you for reading my code and analysis! I am very happy to have applied to Leda Health's internship. I am very interested in learning more about data science and applying my skills! Let me know if you need any more information from me. Even if I am not selected, this was a very fun activity! Thank you.\n",
    "\n",
    "\n",
    "\n",
    "# Juliette Gudknecht\n",
    "Bloomsburg University Class of 2021 - Data Science & Physics Major, Chemistry Minor"
   ]
  },
  {
   "cell_type": "code",
   "execution_count": 15,
   "metadata": {},
   "outputs": [
    {
     "data": {
      "text/html": [
       "<div>\n",
       "<style scoped>\n",
       "    .dataframe tbody tr th:only-of-type {\n",
       "        vertical-align: middle;\n",
       "    }\n",
       "\n",
       "    .dataframe tbody tr th {\n",
       "        vertical-align: top;\n",
       "    }\n",
       "\n",
       "    .dataframe thead th {\n",
       "        text-align: right;\n",
       "    }\n",
       "</style>\n",
       "<table border=\"1\" class=\"dataframe\">\n",
       "  <thead>\n",
       "    <tr style=\"text-align: right;\">\n",
       "      <th></th>\n",
       "      <th>would.you.feel.like.you.had.more.autonomy.over.your.body.as.a.sexual.assault.survivor.if.you.could.perform.an.saek.sexual.assault.evidence.kit.on.yourself?</th>\n",
       "    </tr>\n",
       "  </thead>\n",
       "  <tbody>\n",
       "    <tr>\n",
       "      <td>0</td>\n",
       "      <td>Would you feel like you had more autonomy over...</td>\n",
       "    </tr>\n",
       "    <tr>\n",
       "      <td>1</td>\n",
       "      <td>Maybe</td>\n",
       "    </tr>\n",
       "    <tr>\n",
       "      <td>2</td>\n",
       "      <td>None</td>\n",
       "    </tr>\n",
       "    <tr>\n",
       "      <td>3</td>\n",
       "      <td>Probably yes</td>\n",
       "    </tr>\n",
       "    <tr>\n",
       "      <td>4</td>\n",
       "      <td>None</td>\n",
       "    </tr>\n",
       "  </tbody>\n",
       "</table>\n",
       "</div>"
      ],
      "text/plain": [
       "  would.you.feel.like.you.had.more.autonomy.over.your.body.as.a.sexual.assault.survivor.if.you.could.perform.an.saek.sexual.assault.evidence.kit.on.yourself?\n",
       "0  Would you feel like you had more autonomy over...                                                                                                         \n",
       "1                                              Maybe                                                                                                         \n",
       "2                                               None                                                                                                         \n",
       "3                                       Probably yes                                                                                                         \n",
       "4                                               None                                                                                                         "
      ]
     },
     "execution_count": 15,
     "metadata": {},
     "output_type": "execute_result"
    }
   ],
   "source": [
    "# extra exploratory code to help with the tableau analysis I did after this...\n",
    "\n",
    "df_raw = pd.read_csv('/Users/juliettegudknecht/Downloads/leda.csv')\n",
    "df_raw.head()"
   ]
  },
  {
   "cell_type": "code",
   "execution_count": 16,
   "metadata": {},
   "outputs": [
    {
     "data": {
      "text/plain": [
       "None                                                                                                                                                             335\n",
       "Definitely yes                                                                                                                                                   213\n",
       "Probably yes                                                                                                                                                     187\n",
       "Maybe                                                                                                                                                            151\n",
       "Probably no                                                                                                                                                       40\n",
       "Definitely no                                                                                                                                                     13\n",
       "Would you feel like you had more autonomy over your body as a sexual assault survivor if you could perform an SAEK (Sexual Assault Evidence Kit) on yourself?      1\n",
       "Name: would.you.feel.like.you.had.more.autonomy.over.your.body.as.a.sexual.assault.survivor.if.you.could.perform.an.saek.sexual.assault.evidence.kit.on.yourself?, dtype: int64"
      ]
     },
     "execution_count": 16,
     "metadata": {},
     "output_type": "execute_result"
    }
   ],
   "source": [
    "df_raw['would.you.feel.like.you.had.more.autonomy.over.your.body.as.a.sexual.assault.survivor.if.you.could.perform.an.saek.sexual.assault.evidence.kit.on.yourself?'].value_counts()"
   ]
  },
  {
   "cell_type": "code",
   "execution_count": 35,
   "metadata": {},
   "outputs": [
    {
     "data": {
      "text/plain": [
       "None                                                                                                                  335\n",
       "Probably yes                                                                                                          205\n",
       "Definitely yes                                                                                                        201\n",
       "Unsure                                                                                                                130\n",
       "Probably no                                                                                                            41\n",
       "Definitely no                                                                                                          22\n",
       "Not Applicable                                                                                                          5\n",
       "If you are a survivor of sexual assault, would you use an at-home SAEK (Sexual Assault Evidence Kit) if available?      1\n",
       "Name: if.you.are.a.survivor.of.sexual.assault.would.you.use.an.at-home.saek.sexual.assault.evidence.kit.if.available?, dtype: int64"
      ]
     },
     "execution_count": 35,
     "metadata": {},
     "output_type": "execute_result"
    }
   ],
   "source": [
    "df_raw['if.you.are.a.survivor.of.sexual.assault.would.you.use.an.at-home.saek.sexual.assault.evidence.kit.if.available?'].value_counts()"
   ]
  },
  {
   "cell_type": "code",
   "execution_count": 39,
   "metadata": {},
   "outputs": [
    {
     "name": "stdout",
     "output_type": "stream",
     "text": [
      "67.779632721202\n"
     ]
    }
   ],
   "source": [
    "yes = 205+201\n",
    "unsure = 130\n",
    "no = 41+22\n",
    "print((yes / (yes+unsure+no))*100)"
   ]
  },
  {
   "cell_type": "code",
   "execution_count": null,
   "metadata": {},
   "outputs": [],
   "source": []
  }
 ],
 "metadata": {
  "kernelspec": {
   "display_name": "Python 3",
   "language": "python",
   "name": "python3"
  },
  "language_info": {
   "codemirror_mode": {
    "name": "ipython",
    "version": 3
   },
   "file_extension": ".py",
   "mimetype": "text/x-python",
   "name": "python",
   "nbconvert_exporter": "python",
   "pygments_lexer": "ipython3",
   "version": "3.7.4"
  }
 },
 "nbformat": 4,
 "nbformat_minor": 2
}
